{
 "cells": [
  {
   "cell_type": "code",
   "execution_count": 1,
   "metadata": {},
   "outputs": [],
   "source": [
    "import numpy as np \n",
    "import pandas as pd \n",
    "import os \n",
    "import scipy.stats\n",
    "from tqdm.notebook import tqdm"
   ]
  },
  {
   "cell_type": "code",
   "execution_count": 2,
   "metadata": {},
   "outputs": [],
   "source": [
    "classes = ['running', 'idle', 'walking', 'stairs']"
   ]
  },
  {
   "cell_type": "code",
   "execution_count": 3,
   "metadata": {},
   "outputs": [],
   "source": [
    "# read each file separatelly \n",
    "def read_file(path_to_file):\n",
    "    data = pd.read_csv(path_to_file)\n",
    "    return data"
   ]
  },
  {
   "cell_type": "markdown",
   "metadata": {},
   "source": [
    "###  Generate some numeric statictical features"
   ]
  },
  {
   "cell_type": "code",
   "execution_count": 4,
   "metadata": {},
   "outputs": [],
   "source": [
    "def calculate_simple_features(data):\n",
    "    # columns  ['accelerometer_X'...]\n",
    "    new_line = pd.DataFrame(columns=['min_x'])\n",
    "    new_line.loc[0,'min_x'] = np.min(data['accelerometer_X'])\n",
    "    new_line.loc[0,'mean_x'] = np.mean(data['accelerometer_X'])\n",
    "    new_line.loc[0, 'max_x'] = np.max(data['accelerometer_X'])\n",
    "    new_line.loc[0,'idr_x'] = scipy.stats.iqr(data['accelerometer_X'])\n",
    "    new_line.loc[0, 'median_x'] = np.median(data['accelerometer_X'])\n",
    "    new_line.loc[0,'std_x'] = np.std(data['accelerometer_X'])\n",
    "    new_line.loc[0, 'curt_x'] = scipy.stats.kurtosis(data['accelerometer_X'])\n",
    "    new_line.loc[0,'min_y'] = np.min(data['accelerometer_Y'])\n",
    "    new_line.loc[0,'mean_y'] = np.mean(data['accelerometer_Y'])\n",
    "    new_line.loc[0, 'max_y'] = np.max(data['accelerometer_Y'])\n",
    "    new_line.loc[0,'idr_y'] = scipy.stats.iqr(data['accelerometer_Y'])\n",
    "    new_line.loc[0, 'median_y'] = np.median(data['accelerometer_Y'])\n",
    "    new_line.loc[0,'std_y'] = np.std(data['accelerometer_Y'])\n",
    "    new_line.loc[0, 'curt_y'] = scipy.stats.kurtosis(data['accelerometer_Y'])\n",
    "    new_line.loc[0,'min_z'] = np.min(data['accelerometer_Z'])\n",
    "    new_line.loc[0,'mean_z'] = np.mean(data['accelerometer_Z'])\n",
    "    new_line.loc[0, 'max_z'] = np.max(data['accelerometer_Z'])\n",
    "    new_line.loc[0,'idr_z'] = scipy.stats.iqr(data['accelerometer_Z'])\n",
    "    new_line.loc[0, 'median_z'] = np.median(data['accelerometer_Z'])\n",
    "    new_line.loc[0,'std_z'] = np.std(data['accelerometer_Z'])\n",
    "    new_line.loc[0, 'curt_z'] = scipy.stats.kurtosis(data['accelerometer_Z'])\n",
    "    return new_line"
   ]
  },
  {
   "cell_type": "code",
   "execution_count": 5,
   "metadata": {},
   "outputs": [],
   "source": [
    "# Process data in file and return it as numpy array\n",
    "def process_file_data(data):\n",
    "    new_data = calculate_simple_features(data) \n",
    "    return new_data.to_numpy().flatten()"
   ]
  },
  {
   "cell_type": "code",
   "execution_count": 6,
   "metadata": {},
   "outputs": [
    {
     "data": {
      "application/vnd.jupyter.widget-view+json": {
       "model_id": "768b453796b14ffdb28c713e9b39379c",
       "version_major": 2,
       "version_minor": 0
      },
      "text/plain": [
       "HBox(children=(HTML(value=''), FloatProgress(value=0.0, max=3408.0), HTML(value='')))"
      ]
     },
     "metadata": {},
     "output_type": "display_data"
    },
    {
     "name": "stdout",
     "output_type": "stream",
     "text": [
      "\n"
     ]
    },
    {
     "data": {
      "application/vnd.jupyter.widget-view+json": {
       "model_id": "8ee62623357a491a92dbfd74193ed254",
       "version_major": 2,
       "version_minor": 0
      },
      "text/plain": [
       "HBox(children=(HTML(value=''), FloatProgress(value=0.0, max=1039.0), HTML(value='')))"
      ]
     },
     "metadata": {},
     "output_type": "display_data"
    },
    {
     "name": "stdout",
     "output_type": "stream",
     "text": [
      "\n"
     ]
    },
    {
     "data": {
      "application/vnd.jupyter.widget-view+json": {
       "model_id": "4e8f42dd4103454ab3530e6355fd3d65",
       "version_major": 2,
       "version_minor": 0
      },
      "text/plain": [
       "HBox(children=(HTML(value=''), FloatProgress(value=0.0, max=1850.0), HTML(value='')))"
      ]
     },
     "metadata": {},
     "output_type": "display_data"
    },
    {
     "name": "stdout",
     "output_type": "stream",
     "text": [
      "\n"
     ]
    },
    {
     "data": {
      "application/vnd.jupyter.widget-view+json": {
       "model_id": "e0a334a60ace44a2b52d19810d31f4de",
       "version_major": 2,
       "version_minor": 0
      },
      "text/plain": [
       "HBox(children=(HTML(value=''), FloatProgress(value=0.0, max=165.0), HTML(value='')))"
      ]
     },
     "metadata": {},
     "output_type": "display_data"
    },
    {
     "name": "stdout",
     "output_type": "stream",
     "text": [
      "\n"
     ]
    }
   ],
   "source": [
    "full_data = pd.DataFrame(columns=['class', 'samples'])\n",
    "for class_name in classes: \n",
    "    folder_name = os.path.join('data', class_name)\n",
    "    class_samples = os.listdir(folder_name)\n",
    "    for sample in tqdm(class_samples):\n",
    "        if not sample.startswith('.'): \n",
    "            sample_data = read_file(os.path.join(folder_name, sample))\n",
    "            np_sample = process_file_data(sample_data)\n",
    "            full_data = full_data.append({'class':class_name, 'samples':np_sample}, ignore_index=True)"
   ]
  },
  {
   "cell_type": "code",
   "execution_count": 7,
   "metadata": {},
   "outputs": [
    {
     "data": {
      "text/html": [
       "<div>\n",
       "<style scoped>\n",
       "    .dataframe tbody tr th:only-of-type {\n",
       "        vertical-align: middle;\n",
       "    }\n",
       "\n",
       "    .dataframe tbody tr th {\n",
       "        vertical-align: top;\n",
       "    }\n",
       "\n",
       "    .dataframe thead th {\n",
       "        text-align: right;\n",
       "    }\n",
       "</style>\n",
       "<table border=\"1\" class=\"dataframe\">\n",
       "  <thead>\n",
       "    <tr style=\"text-align: right;\">\n",
       "      <th></th>\n",
       "      <th>class</th>\n",
       "      <th>samples</th>\n",
       "    </tr>\n",
       "  </thead>\n",
       "  <tbody>\n",
       "    <tr>\n",
       "      <th>0</th>\n",
       "      <td>running</td>\n",
       "      <td>[-5.295974, 7.409415866666667, 27.087997, 10.5...</td>\n",
       "    </tr>\n",
       "    <tr>\n",
       "      <th>1</th>\n",
       "      <td>running</td>\n",
       "      <td>[-7.656657000000001, 5.468037566666667, 23.879...</td>\n",
       "    </tr>\n",
       "    <tr>\n",
       "      <th>2</th>\n",
       "      <td>running</td>\n",
       "      <td>[-5.2241480000000005, 7.893204099999999, 38.19...</td>\n",
       "    </tr>\n",
       "    <tr>\n",
       "      <th>3</th>\n",
       "      <td>running</td>\n",
       "      <td>[-8.729258999999999, 6.006892633333335, 27.092...</td>\n",
       "    </tr>\n",
       "    <tr>\n",
       "      <th>4</th>\n",
       "      <td>running</td>\n",
       "      <td>[-7.522581, 8.3963057, 38.19709, 14.747085, 5....</td>\n",
       "    </tr>\n",
       "    <tr>\n",
       "      <th>5</th>\n",
       "      <td>running</td>\n",
       "      <td>[-4.0845080000000005, 5.823337066666667, 22.79...</td>\n",
       "    </tr>\n",
       "    <tr>\n",
       "      <th>6</th>\n",
       "      <td>running</td>\n",
       "      <td>[-39.188293, -6.708233933333332, 10.357317, 13...</td>\n",
       "    </tr>\n",
       "    <tr>\n",
       "      <th>7</th>\n",
       "      <td>running</td>\n",
       "      <td>[-9.308656, 5.2417059, 28.88365, 16.300922, 4....</td>\n",
       "    </tr>\n",
       "    <tr>\n",
       "      <th>8</th>\n",
       "      <td>running</td>\n",
       "      <td>[-8.944737, 3.9925710333333337, 28.88365, 13.3...</td>\n",
       "    </tr>\n",
       "    <tr>\n",
       "      <th>9</th>\n",
       "      <td>running</td>\n",
       "      <td>[-27.207708, -1.9991583666666661, 14.283808, 1...</td>\n",
       "    </tr>\n",
       "  </tbody>\n",
       "</table>\n",
       "</div>"
      ],
      "text/plain": [
       "     class                                            samples\n",
       "0  running  [-5.295974, 7.409415866666667, 27.087997, 10.5...\n",
       "1  running  [-7.656657000000001, 5.468037566666667, 23.879...\n",
       "2  running  [-5.2241480000000005, 7.893204099999999, 38.19...\n",
       "3  running  [-8.729258999999999, 6.006892633333335, 27.092...\n",
       "4  running  [-7.522581, 8.3963057, 38.19709, 14.747085, 5....\n",
       "5  running  [-4.0845080000000005, 5.823337066666667, 22.79...\n",
       "6  running  [-39.188293, -6.708233933333332, 10.357317, 13...\n",
       "7  running  [-9.308656, 5.2417059, 28.88365, 16.300922, 4....\n",
       "8  running  [-8.944737, 3.9925710333333337, 28.88365, 13.3...\n",
       "9  running  [-27.207708, -1.9991583666666661, 14.283808, 1..."
      ]
     },
     "execution_count": 7,
     "metadata": {},
     "output_type": "execute_result"
    }
   ],
   "source": [
    "full_data.head(10)"
   ]
  },
  {
   "cell_type": "code",
   "execution_count": 8,
   "metadata": {},
   "outputs": [
    {
     "data": {
      "text/html": [
       "<div>\n",
       "<style scoped>\n",
       "    .dataframe tbody tr th:only-of-type {\n",
       "        vertical-align: middle;\n",
       "    }\n",
       "\n",
       "    .dataframe tbody tr th {\n",
       "        vertical-align: top;\n",
       "    }\n",
       "\n",
       "    .dataframe thead th {\n",
       "        text-align: right;\n",
       "    }\n",
       "</style>\n",
       "<table border=\"1\" class=\"dataframe\">\n",
       "  <thead>\n",
       "    <tr style=\"text-align: right;\">\n",
       "      <th></th>\n",
       "      <th>class</th>\n",
       "      <th>samples</th>\n",
       "    </tr>\n",
       "  </thead>\n",
       "  <tbody>\n",
       "    <tr>\n",
       "      <th>6452</th>\n",
       "      <td>stairs</td>\n",
       "      <td>[-11.238382, -3.2609025333333332, 3.969586, 5....</td>\n",
       "    </tr>\n",
       "    <tr>\n",
       "      <th>6453</th>\n",
       "      <td>stairs</td>\n",
       "      <td>[-10.036493, -3.4401484666666664, 2.987964, 3....</td>\n",
       "    </tr>\n",
       "    <tr>\n",
       "      <th>6454</th>\n",
       "      <td>stairs</td>\n",
       "      <td>[-4.76925, 1.2304601666666668, 5.88016, 2.8526...</td>\n",
       "    </tr>\n",
       "    <tr>\n",
       "      <th>6455</th>\n",
       "      <td>stairs</td>\n",
       "      <td>[-9.528923, -0.44659826666666647, 5.272033, 5....</td>\n",
       "    </tr>\n",
       "    <tr>\n",
       "      <th>6456</th>\n",
       "      <td>stairs</td>\n",
       "      <td>[-7.426813, -0.1813206666666666, 5.272033, 4.8...</td>\n",
       "    </tr>\n",
       "    <tr>\n",
       "      <th>6457</th>\n",
       "      <td>stairs</td>\n",
       "      <td>[-7.426813, -0.2681503333333332, 5.272033, 4.8...</td>\n",
       "    </tr>\n",
       "    <tr>\n",
       "      <th>6458</th>\n",
       "      <td>stairs</td>\n",
       "      <td>[-9.528923, -0.4102063999999999, 5.272033, 5.2...</td>\n",
       "    </tr>\n",
       "    <tr>\n",
       "      <th>6459</th>\n",
       "      <td>stairs</td>\n",
       "      <td>[-4.76925, 1.0251972999999999, 5.88016, 4.1084...</td>\n",
       "    </tr>\n",
       "    <tr>\n",
       "      <th>6460</th>\n",
       "      <td>stairs</td>\n",
       "      <td>[-10.036493, -3.485957566666666, 2.987964, 3.4...</td>\n",
       "    </tr>\n",
       "    <tr>\n",
       "      <th>6461</th>\n",
       "      <td>stairs</td>\n",
       "      <td>[-11.238382, -3.4840421333333333, 3.969586, 4....</td>\n",
       "    </tr>\n",
       "  </tbody>\n",
       "</table>\n",
       "</div>"
      ],
      "text/plain": [
       "       class                                            samples\n",
       "6452  stairs  [-11.238382, -3.2609025333333332, 3.969586, 5....\n",
       "6453  stairs  [-10.036493, -3.4401484666666664, 2.987964, 3....\n",
       "6454  stairs  [-4.76925, 1.2304601666666668, 5.88016, 2.8526...\n",
       "6455  stairs  [-9.528923, -0.44659826666666647, 5.272033, 5....\n",
       "6456  stairs  [-7.426813, -0.1813206666666666, 5.272033, 4.8...\n",
       "6457  stairs  [-7.426813, -0.2681503333333332, 5.272033, 4.8...\n",
       "6458  stairs  [-9.528923, -0.4102063999999999, 5.272033, 5.2...\n",
       "6459  stairs  [-4.76925, 1.0251972999999999, 5.88016, 4.1084...\n",
       "6460  stairs  [-10.036493, -3.485957566666666, 2.987964, 3.4...\n",
       "6461  stairs  [-11.238382, -3.4840421333333333, 3.969586, 4...."
      ]
     },
     "execution_count": 8,
     "metadata": {},
     "output_type": "execute_result"
    }
   ],
   "source": [
    "full_data.tail(10)"
   ]
  },
  {
   "cell_type": "markdown",
   "metadata": {},
   "source": [
    "### Now, as we have the full dataset created, we can make simple analysis. Let's check number of samples per class. "
   ]
  },
  {
   "cell_type": "code",
   "execution_count": 9,
   "metadata": {},
   "outputs": [
    {
     "data": {
      "text/plain": [
       "running    3408\n",
       "walking    1850\n",
       "idle       1039\n",
       "stairs      165\n",
       "Name: class, dtype: int64"
      ]
     },
     "execution_count": 9,
     "metadata": {},
     "output_type": "execute_result"
    }
   ],
   "source": [
    "# Number of data per class\n",
    "full_data['class'].value_counts()"
   ]
  },
  {
   "cell_type": "markdown",
   "metadata": {},
   "source": [
    "As we can see the dataset is unbalanced, with majority of samples in 'running' and the smallest amount of data in 'stairs'."
   ]
  },
  {
   "cell_type": "markdown",
   "metadata": {},
   "source": [
    "### Now we need to create train / test split"
   ]
  },
  {
   "cell_type": "code",
   "execution_count": 10,
   "metadata": {},
   "outputs": [],
   "source": [
    "train=full_data.sample(frac=0.8,random_state=200) #random state is a seed value\n",
    "test=full_data.drop(train.index)"
   ]
  },
  {
   "cell_type": "code",
   "execution_count": 11,
   "metadata": {},
   "outputs": [
    {
     "data": {
      "text/plain": [
       "running    2726\n",
       "walking    1464\n",
       "idle        850\n",
       "stairs      130\n",
       "Name: class, dtype: int64"
      ]
     },
     "execution_count": 11,
     "metadata": {},
     "output_type": "execute_result"
    }
   ],
   "source": [
    "train['class'].value_counts()"
   ]
  },
  {
   "cell_type": "code",
   "execution_count": 12,
   "metadata": {},
   "outputs": [
    {
     "data": {
      "text/plain": [
       "running    682\n",
       "walking    386\n",
       "idle       189\n",
       "stairs      35\n",
       "Name: class, dtype: int64"
      ]
     },
     "execution_count": 12,
     "metadata": {},
     "output_type": "execute_result"
    }
   ],
   "source": [
    "test['class'].value_counts()"
   ]
  },
  {
   "cell_type": "code",
   "execution_count": 13,
   "metadata": {},
   "outputs": [],
   "source": [
    "# Save train/test data \n",
    "train.to_csv('train.csv')\n",
    "test.to_csv('test.csv')"
   ]
  },
  {
   "cell_type": "code",
   "execution_count": 14,
   "metadata": {},
   "outputs": [],
   "source": [
    "X = np.array(train['samples'].tolist())\n",
    "y = train['class'].factorize()[0]"
   ]
  },
  {
   "cell_type": "code",
   "execution_count": 15,
   "metadata": {},
   "outputs": [],
   "source": [
    "X_test = np.array(test['samples'].tolist())\n",
    "y_test = test['class'].factorize()[0]"
   ]
  },
  {
   "cell_type": "markdown",
   "metadata": {},
   "source": [
    "### Gaussian Naive Bayes"
   ]
  },
  {
   "cell_type": "code",
   "execution_count": 16,
   "metadata": {},
   "outputs": [],
   "source": [
    "from sklearn.naive_bayes import GaussianNB\n",
    "from sklearn.metrics import accuracy_score"
   ]
  },
  {
   "cell_type": "code",
   "execution_count": 17,
   "metadata": {},
   "outputs": [],
   "source": [
    "model = GaussianNB()"
   ]
  },
  {
   "cell_type": "code",
   "execution_count": 18,
   "metadata": {},
   "outputs": [
    {
     "data": {
      "text/plain": [
       "GaussianNB()"
      ]
     },
     "execution_count": 18,
     "metadata": {},
     "output_type": "execute_result"
    }
   ],
   "source": [
    "model.fit(X, y)"
   ]
  },
  {
   "cell_type": "code",
   "execution_count": 21,
   "metadata": {},
   "outputs": [],
   "source": [
    "y_train_model = model.predict(X)"
   ]
  },
  {
   "cell_type": "code",
   "execution_count": 22,
   "metadata": {},
   "outputs": [
    {
     "data": {
      "text/plain": [
       "0.9849129593810445"
      ]
     },
     "execution_count": 22,
     "metadata": {},
     "output_type": "execute_result"
    }
   ],
   "source": [
    "accuracy_score(y, y_train_model)"
   ]
  },
  {
   "cell_type": "code",
   "execution_count": 19,
   "metadata": {},
   "outputs": [],
   "source": [
    "y_model = model.predict(X_test)"
   ]
  },
  {
   "cell_type": "code",
   "execution_count": 20,
   "metadata": {},
   "outputs": [
    {
     "data": {
      "text/plain": [
       "0.02631578947368421"
      ]
     },
     "execution_count": 20,
     "metadata": {},
     "output_type": "execute_result"
    }
   ],
   "source": [
    "accuracy_score(y_test, y_model)"
   ]
  },
  {
   "cell_type": "markdown",
   "metadata": {},
   "source": [
    "We have a good classification accuracy on train, but it's terrible on test. "
   ]
  },
  {
   "cell_type": "markdown",
   "metadata": {},
   "source": [
    "### Random Forest"
   ]
  },
  {
   "cell_type": "code",
   "execution_count": 24,
   "metadata": {},
   "outputs": [],
   "source": [
    "from sklearn.ensemble import RandomForestClassifier\n",
    "from sklearn.datasets import make_classification"
   ]
  },
  {
   "cell_type": "code",
   "execution_count": 49,
   "metadata": {},
   "outputs": [],
   "source": [
    "X, y = make_classification(n_samples=1000, n_features=21,\n",
    "                           n_redundant=0,\n",
    "                           random_state=0, shuffle=False)"
   ]
  },
  {
   "cell_type": "code",
   "execution_count": 50,
   "metadata": {},
   "outputs": [],
   "source": [
    "clf = RandomForestClassifier(max_depth=2, random_state=0)"
   ]
  },
  {
   "cell_type": "code",
   "execution_count": 51,
   "metadata": {},
   "outputs": [
    {
     "data": {
      "text/plain": [
       "RandomForestClassifier(max_depth=2, random_state=0)"
      ]
     },
     "execution_count": 51,
     "metadata": {},
     "output_type": "execute_result"
    }
   ],
   "source": [
    "clf.fit(X, y)"
   ]
  },
  {
   "cell_type": "code",
   "execution_count": 52,
   "metadata": {},
   "outputs": [],
   "source": [
    "y_test_model = clf.predict(X_test)"
   ]
  },
  {
   "cell_type": "code",
   "execution_count": 53,
   "metadata": {},
   "outputs": [
    {
     "data": {
      "text/plain": [
       "0.19659442724458204"
      ]
     },
     "execution_count": 53,
     "metadata": {},
     "output_type": "execute_result"
    }
   ],
   "source": [
    "accuracy_score(y_test, y_test_model)"
   ]
  },
  {
   "cell_type": "code",
   "execution_count": 54,
   "metadata": {},
   "outputs": [],
   "source": [
    "y_train_model = model.predict(X)"
   ]
  },
  {
   "cell_type": "code",
   "execution_count": 55,
   "metadata": {},
   "outputs": [
    {
     "data": {
      "text/plain": [
       "0.239"
      ]
     },
     "execution_count": 55,
     "metadata": {},
     "output_type": "execute_result"
    }
   ],
   "source": [
    "accuracy_score(y, y_train_model)"
   ]
  },
  {
   "cell_type": "markdown",
   "metadata": {},
   "source": [
    "Here the results are worse :( "
   ]
  }
 ],
 "metadata": {
  "kernelspec": {
   "display_name": "Python 3",
   "language": "python",
   "name": "python3"
  },
  "language_info": {
   "codemirror_mode": {
    "name": "ipython",
    "version": 3
   },
   "file_extension": ".py",
   "mimetype": "text/x-python",
   "name": "python",
   "nbconvert_exporter": "python",
   "pygments_lexer": "ipython3",
   "version": "3.7.7"
  }
 },
 "nbformat": 4,
 "nbformat_minor": 4
}
